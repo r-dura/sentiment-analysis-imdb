{
 "cells": [
  {
   "cell_type": "markdown",
   "id": "c6ad65eb-526e-4a26-8af0-e113d373e22c",
   "metadata": {},
   "source": [
    "Building Naive Bayes classifier"
   ]
  },
  {
   "cell_type": "code",
   "execution_count": 1,
   "id": "de10b057-23eb-4520-9f79-5ffdcc36a319",
   "metadata": {},
   "outputs": [],
   "source": [
    "import pandas as pd\n",
    "import matplotlib.pyplot as plt\n",
    "import seaborn as sns\n",
    "from sklearn.model_selection import train_test_split\n",
    "from sklearn.metrics import confusion_matrix\n",
    "from src.data_preprocessing import TextPreprocessor\n",
    "from src.naive_bayes_model import NaiveBayes"
   ]
  },
  {
   "cell_type": "code",
   "execution_count": 2,
   "id": "66fad46b-871a-49ee-915e-1a056c153d4d",
   "metadata": {},
   "outputs": [],
   "source": [
    "df = pd.read_csv('data/raw/IMDB Dataset.csv')"
   ]
  },
  {
   "cell_type": "code",
   "execution_count": 3,
   "id": "2bd86efc-51e8-466a-8c6a-79321542e19b",
   "metadata": {},
   "outputs": [
    {
     "data": {
      "text/html": [
       "<div>\n",
       "<style scoped>\n",
       "    .dataframe tbody tr th:only-of-type {\n",
       "        vertical-align: middle;\n",
       "    }\n",
       "\n",
       "    .dataframe tbody tr th {\n",
       "        vertical-align: top;\n",
       "    }\n",
       "\n",
       "    .dataframe thead th {\n",
       "        text-align: right;\n",
       "    }\n",
       "</style>\n",
       "<table border=\"1\" class=\"dataframe\">\n",
       "  <thead>\n",
       "    <tr style=\"text-align: right;\">\n",
       "      <th></th>\n",
       "      <th>review</th>\n",
       "      <th>sentiment</th>\n",
       "    </tr>\n",
       "  </thead>\n",
       "  <tbody>\n",
       "    <tr>\n",
       "      <th>0</th>\n",
       "      <td>One of the other reviewers has mentioned that ...</td>\n",
       "      <td>positive</td>\n",
       "    </tr>\n",
       "    <tr>\n",
       "      <th>1</th>\n",
       "      <td>A wonderful little production. &lt;br /&gt;&lt;br /&gt;The...</td>\n",
       "      <td>positive</td>\n",
       "    </tr>\n",
       "    <tr>\n",
       "      <th>2</th>\n",
       "      <td>I thought this was a wonderful way to spend ti...</td>\n",
       "      <td>positive</td>\n",
       "    </tr>\n",
       "    <tr>\n",
       "      <th>3</th>\n",
       "      <td>Basically there's a family where a little boy ...</td>\n",
       "      <td>negative</td>\n",
       "    </tr>\n",
       "    <tr>\n",
       "      <th>4</th>\n",
       "      <td>Petter Mattei's \"Love in the Time of Money\" is...</td>\n",
       "      <td>positive</td>\n",
       "    </tr>\n",
       "    <tr>\n",
       "      <th>...</th>\n",
       "      <td>...</td>\n",
       "      <td>...</td>\n",
       "    </tr>\n",
       "    <tr>\n",
       "      <th>9995</th>\n",
       "      <td>Fun, entertaining movie about WWII German spy ...</td>\n",
       "      <td>positive</td>\n",
       "    </tr>\n",
       "    <tr>\n",
       "      <th>9996</th>\n",
       "      <td>Give me a break. How can anyone say that this ...</td>\n",
       "      <td>negative</td>\n",
       "    </tr>\n",
       "    <tr>\n",
       "      <th>9997</th>\n",
       "      <td>This movie is a bad movie. But after watching ...</td>\n",
       "      <td>negative</td>\n",
       "    </tr>\n",
       "    <tr>\n",
       "      <th>9998</th>\n",
       "      <td>This is a movie that was probably made to ente...</td>\n",
       "      <td>negative</td>\n",
       "    </tr>\n",
       "    <tr>\n",
       "      <th>9999</th>\n",
       "      <td>Smashing film about film-making. Shows the int...</td>\n",
       "      <td>positive</td>\n",
       "    </tr>\n",
       "  </tbody>\n",
       "</table>\n",
       "<p>10000 rows × 2 columns</p>\n",
       "</div>"
      ],
      "text/plain": [
       "                                                 review sentiment\n",
       "0     One of the other reviewers has mentioned that ...  positive\n",
       "1     A wonderful little production. <br /><br />The...  positive\n",
       "2     I thought this was a wonderful way to spend ti...  positive\n",
       "3     Basically there's a family where a little boy ...  negative\n",
       "4     Petter Mattei's \"Love in the Time of Money\" is...  positive\n",
       "...                                                 ...       ...\n",
       "9995  Fun, entertaining movie about WWII German spy ...  positive\n",
       "9996  Give me a break. How can anyone say that this ...  negative\n",
       "9997  This movie is a bad movie. But after watching ...  negative\n",
       "9998  This is a movie that was probably made to ente...  negative\n",
       "9999  Smashing film about film-making. Shows the int...  positive\n",
       "\n",
       "[10000 rows x 2 columns]"
      ]
     },
     "execution_count": 3,
     "metadata": {},
     "output_type": "execute_result"
    }
   ],
   "source": [
    "df = df.head(10000)\n",
    "df"
   ]
  },
  {
   "cell_type": "code",
   "execution_count": 7,
   "id": "a6a992fd-862b-4f84-98a4-4d5653fc8c61",
   "metadata": {},
   "outputs": [
    {
     "name": "stdout",
     "output_type": "stream",
     "text": [
      "Training set shape: (8000, 9084), (8000,)\n",
      "Test set shape: (2000, 9084), (2000,)\n"
     ]
    }
   ],
   "source": [
    "train_df, test_df = train_test_split(df, test_size=0.2, random_state=42, stratify=df['sentiment'])\n",
    "\n",
    "preprocessor = TextPreprocessor(min_occurrence=10)\n",
    "preprocessor.fit(train_df['review'])\n",
    "\n",
    "X_train = preprocessor.transform(train_df['review'])\n",
    "X_test = preprocessor.transform(test_df['review'])\n",
    "y_train = train_df['sentiment'].values\n",
    "y_test = test_df['sentiment'].values\n",
    "\n",
    "print(f\"Training set shape: {X_train.shape}, {y_train.shape}\")\n",
    "print(f\"Test set shape: {X_test.shape}, {y_test.shape}\")"
   ]
  },
  {
   "cell_type": "code",
   "execution_count": 8,
   "id": "98506e65-69cc-45fc-bdf8-55d50b297a37",
   "metadata": {},
   "outputs": [
    {
     "name": "stdout",
     "output_type": "stream",
     "text": [
      "Instance to feature ratio: 0.88\n"
     ]
    }
   ],
   "source": [
    "instance_feature_ratio = X_train.shape[0] / X_train.shape[1]\n",
    "print(f\"Instance to feature ratio: {instance_feature_ratio:.2f}\")"
   ]
  },
  {
   "cell_type": "code",
   "execution_count": 9,
   "id": "88cfc99f-5a12-443c-836b-4b3c3d3f5c0b",
   "metadata": {},
   "outputs": [
    {
     "name": "stdout",
     "output_type": "stream",
     "text": [
      "Dummy Classifier Accuracy: 0.503\n"
     ]
    }
   ],
   "source": [
    "from sklearn.dummy import DummyClassifier\n",
    "from sklearn.metrics import accuracy_score\n",
    "\n",
    "dummy_clf = DummyClassifier(strategy=\"most_frequent\")\n",
    "dummy_clf.fit(X_train, y_train)\n",
    "dummy_predictions = dummy_clf.predict(X_test)\n",
    "\n",
    "print(\"Dummy Classifier Accuracy:\", accuracy_score(y_test, dummy_predictions))"
   ]
  },
  {
   "cell_type": "markdown",
   "id": "178ea5a0-29d3-4347-b3df-ac90bc2741f3",
   "metadata": {},
   "source": [
    "## Building my model for cross validation and testing"
   ]
  },
  {
   "cell_type": "code",
   "execution_count": 10,
   "id": "08aeba1b-7abf-49d6-a221-5e2d1d1290cc",
   "metadata": {},
   "outputs": [],
   "source": [
    "my_model = NaiveBayes()\n",
    "my_model.fit(X_train, y_train)"
   ]
  },
  {
   "cell_type": "markdown",
   "id": "75b83aa4-e946-4c52-93ef-4bedf6bcc9a0",
   "metadata": {},
   "source": [
    "## Cross Validation function"
   ]
  },
  {
   "cell_type": "code",
   "execution_count": 11,
   "id": "66303659-b4e1-4a73-b1f2-ea794ad94767",
   "metadata": {},
   "outputs": [],
   "source": [
    "import numpy as np\n",
    "from sklearn.model_selection import KFold\n",
    "\n",
    "def k_fold_cross_validation(model, X, y, k=5):\n",
    "    kf = KFold(k, shuffle = True, random_state = 42)\n",
    "    scores = []\n",
    "    for i, (train_index, val_index) in enumerate(kf.split(X)):\n",
    "        X_train_fold, X_val_fold = X_train[train_index], X_train[val_index]\n",
    "        y_train_fold, y_val_fold = y_train[train_index], y_train[val_index]\n",
    "        \n",
    "        model.fit(X_train_fold, y_train_fold)\n",
    "\n",
    "        predictions = model.predict(X_val_fold)\n",
    "\n",
    "        accuracy = accuracy_score(y_val_fold, predictions)\n",
    "        scores.append(accuracy)\n",
    "    mean_validation_acc = round(np.mean(scores), 3)\n",
    "    std_validation_acc = round(np.std(scores), 4)\n",
    "    print(f'Mean Validation Score {mean_validation_acc}')\n",
    "    print(f'Standard Deviation for Validation Score {std_validation_acc}')\n",
    "    print(f'The model achieved a validation accuracy of {mean_validation_acc*100}% plus/minus {std_validation_acc*100}')\n",
    "    return scores"
   ]
  },
  {
   "cell_type": "code",
   "execution_count": 12,
   "id": "7da242c9-5338-4457-a5c4-bf79dc60274a",
   "metadata": {},
   "outputs": [
    {
     "name": "stdout",
     "output_type": "stream",
     "text": [
      "Mean Validation Score 0.695\n",
      "Standard Deviation for Validation Score 0.0144\n",
      "The model achieved a validation accuracy of 69.5% plus/minus 1.44\n",
      "[0.68125, 0.695, 0.695, 0.68625, 0.70875, 0.7175, 0.665, 0.69375, 0.69875, 0.70875]\n"
     ]
    }
   ],
   "source": [
    "scores = k_fold_cross_validation(my_model, X_train, y_train, 10)\n",
    "print(scores)"
   ]
  },
  {
   "cell_type": "code",
   "execution_count": 13,
   "id": "d6854001-1185-4a8c-b8dc-ac31b86e942e",
   "metadata": {},
   "outputs": [
    {
     "data": {
      "image/png": "[encoded data removed]",
      "text/plain": [
       "<Figure size 1000x600 with 1 Axes>"
      ]
     },
     "metadata": {},
     "output_type": "display_data"
    }
   ],
   "source": [
    "plt.figure(figsize=(10, 6))\n",
    "plt.boxplot(scores)\n",
    "plt.title('5-Fold Cross-Validation Results for Homemade Naive Bayes')\n",
    "plt.ylabel('Accuracy')\n",
    "plt.show()"
   ]
  },
  {
   "cell_type": "markdown",
   "id": "612e91af-bc19-46fa-a34d-fe27cdd44baf",
   "metadata": {},
   "source": [
    "## Evaluation of classifier on test set"
   ]
  },
  {
   "cell_type": "code",
   "execution_count": 14,
   "id": "6cd992ab-e4a1-46d3-8f32-e5e10ffd0db3",
   "metadata": {},
   "outputs": [
    {
     "name": "stdout",
     "output_type": "stream",
     "text": [
      "Accuracy: 0.71\n"
     ]
    }
   ],
   "source": [
    "predictions = my_model.predict(X_test)\n",
    "accuracy = accuracy_score(predictions, y_test)\n",
    "print(f\"Accuracy: {accuracy:.2f}\")"
   ]
  },
  {
   "cell_type": "code",
   "execution_count": 15,
   "id": "e33749ce-fa65-4765-acb9-43f441a61fbb",
   "metadata": {},
   "outputs": [
    {
     "name": "stdout",
     "output_type": "stream",
     "text": [
      "[[741 253]\n",
      " [320 686]]\n"
     ]
    },
    {
     "data": {
      "image/png": "[encoded data removed]",
      "text/plain": [
       "<Figure size 640x480 with 2 Axes>"
      ]
     },
     "metadata": {},
     "output_type": "display_data"
    }
   ],
   "source": [
    "cm = confusion_matrix(y_test, predictions)\n",
    "print(cm)\n",
    "sns.heatmap(cm, annot=True, fmt = 'd')\n",
    "plt.show()"
   ]
  },
  {
   "cell_type": "code",
   "execution_count": null,
   "id": "f1a5fced-8fbc-4bc1-a260-400825e6cc56",
   "metadata": {},
   "outputs": [],
   "source": [
    "from sklearn.metrics import classification_report\n",
    "\n",
    "print(classification_report(y_test, predictions))"
   ]
  },
  {
   "cell_type": "markdown",
   "id": "5e586b5a-82a4-4a19-92f7-e3e520cbf804",
   "metadata": {},
   "source": [
    "## Training and Testing Multinomial Naive Bayes Classifier"
   ]
  },
  {
   "cell_type": "code",
   "execution_count": null,
   "id": "26da69a6-e0ad-4521-9805-da4996a784ec",
   "metadata": {},
   "outputs": [],
   "source": [
    "from sklearn.naive_bayes import MultinomialNB\n",
    "from sklearn.metrics import accuracy_score\n",
    "\n",
    "MNB = MultinomialNB()\n",
    "MNB.fit(X_train, y_train)"
   ]
  },
  {
   "cell_type": "code",
   "execution_count": null,
   "id": "c61400d3-cba6-42d6-9224-ac85672a926a",
   "metadata": {},
   "outputs": [],
   "source": [
    "mnb_val_scores = k_fold_cross_validation(MNB, X_train, y_train, 10)\n",
    "print(mnb_val_scores)"
   ]
  },
  {
   "cell_type": "code",
   "execution_count": null,
   "id": "1cb566dd-1014-47d5-8cf4-7d07039f15ee",
   "metadata": {},
   "outputs": [],
   "source": [
    "# MNB Evaluation on test set\n",
    "MNB_predictions = MNB.predict(X_test)\n",
    "MNB_accuracy = accuracy_score(MNB_predictions, y_test)\n",
    "print(f\"Accuracy: {MNB_accuracy:.2f}\")"
   ]
  },
  {
   "cell_type": "code",
   "execution_count": null,
   "id": "2e131fd7-f2b3-4c61-b478-4cf8c1135ed4",
   "metadata": {},
   "outputs": [],
   "source": [
    "from sklearn.metrics import confusion_matrix\n",
    "import matplotlib.pyplot as plt\n",
    "import seaborn as sns\n",
    "\n",
    "cm = confusion_matrix(y_test, MNB_predictions)\n",
    "print(cm)\n",
    "sns.heatmap(cm, annot=True, fmt = 'd')\n",
    "plt.show()"
   ]
  },
  {
   "cell_type": "markdown",
   "id": "f95679ae-c658-4b3c-8511-b6f369157428",
   "metadata": {},
   "source": [
    "## Gaussian Naive Bayes classifier from SKlearn"
   ]
  },
  {
   "cell_type": "code",
   "execution_count": null,
   "id": "70e334cf-f531-42cc-a434-ccf1cdc5c1be",
   "metadata": {},
   "outputs": [],
   "source": [
    "from sklearn.naive_bayes import GaussianNB\n",
    "\n",
    "# Build a Gaussian Classifier\n",
    "GNB = GaussianNB()\n",
    "\n",
    "# Model training\n",
    "GNB.fit(X_train, y_train)\n",
    "\n",
    "# Predict Output\n",
    "GNB_predictions = GNB.predict(X_test)\n",
    "\n",
    "GNB_accuracy = accuracy_score(GNB_predictions, y_test)\n",
    "print(f\"Accuracy: {GNB_accuracy:.2f}\")"
   ]
  },
  {
   "cell_type": "code",
   "execution_count": null,
   "id": "135168a3-a0be-4d71-b7c7-0e301954b772",
   "metadata": {},
   "outputs": [],
   "source": []
  },
  {
   "cell_type": "code",
   "execution_count": null,
   "id": "5131b43e-462d-46dd-82d0-fee5b692a4fa",
   "metadata": {},
   "outputs": [],
   "source": []
  }
 ],
 "metadata": {
  "kernelspec": {
   "display_name": "Python 3 (ipykernel)",
   "language": "python",
   "name": "python3"
  },
  "language_info": {
   "codemirror_mode": {
    "name": "ipython",
    "version": 3
   },
   "file_extension": ".py",
   "mimetype": "text/x-python",
   "name": "python",
   "nbconvert_exporter": "python",
   "pygments_lexer": "ipython3",
   "version": "3.12.1"
  }
 },
 "nbformat": 4,
 "nbformat_minor": 5
}
