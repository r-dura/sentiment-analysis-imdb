{
 "cells": [
  {
   "cell_type": "markdown",
   "id": "c6ad65eb-526e-4a26-8af0-e113d373e22c",
   "metadata": {},
   "source": [
    "Building Naive Bayes classifier"
   ]
  },
  {
   "cell_type": "code",
   "execution_count": 2,
   "id": "057ddeb9-f7ae-4e54-9237-ba6264fe7037",
   "metadata": {},
   "outputs": [
    {
     "ename": "SyntaxError",
     "evalue": "unterminated string literal (detected at line 33) (4270150086.py, line 33)",
     "output_type": "error",
     "traceback": [
      "\u001b[0;36m  Cell \u001b[0;32mIn[2], line 33\u001b[0;36m\u001b[0m\n\u001b[0;31m    \"\"\"Performs inference using Bayes' Theorem: P(A | B) = P(B | A) * P(A) / P(B)\"\"\"\u001b[0m\n\u001b[0m                                     ^\u001b[0m\n\u001b[0;31mSyntaxError\u001b[0m\u001b[0;31m:\u001b[0m unterminated string literal (detected at line 33)\n"
     ]
    }
   ],
   "source": [
    "import numpy as np\n",
    "\n",
    "class NaiveBayes:\n",
    "    def __init__(self):\n",
    "        self.unique_classes = None\n",
    "        self.priors = None\n",
    "        self.means = None\n",
    "        self.stds = None\n",
    "        \n",
    "    def fit(self, X, y):\n",
    "        \"\"\"Trains model on data. Calculates means, variances, and priors for each class\"\"\"\n",
    "        self.unique_classes = np.unique(y)\n",
    "        num_classes = len(self.unique_classes)\n",
    "        num_features = X.shape[1]\n",
    "\n",
    "        self.means = np.zeros((num_classes, num_features))\n",
    "        self.variances = np.zeros((num_classes, num_features))\n",
    "        for idx, c in enumerate(self.unique_classes):\n",
    "            X_c = X[y == c]  # All reviews of class c\n",
    "            self.means[idx] = X_c.mean(axis=0) # Calculates the mean of the column\n",
    "            self.variances = X_c.var(axis=0)\n",
    "            \n",
    "        self.priors = self.calculate_prior_probs(y)\n",
    "            \n",
    "\n",
    "    def calculate_likelihood((self, x, mean, var) -> float:\n",
    "        \"\"\"Calculates the Gaussian likelihood of the data with the given mean and variance\"\"\"\n",
    "        \n",
    "        \n",
    "        \n",
    "\n",
    "    def predict(self, X):\n",
    "        \"\"\"Performs inference using Bayes' Theorem: P(A | B) = P(B | A) * P(A) / P(B)\"\"\"\n",
    "        pass\n",
    "\n",
    "    def calculate_prior_probs(self, y):\n",
    "        \"\"\"Calculate proportion of words taken up by each class\"\"\"\n",
    "        unique, counts = np.unique(y, return_counts=True)\n",
    "        total_samples = len(y)\n",
    "        num_labels = len(unique)\n",
    "        prior_probs = np.zeros(n_classes)\n",
    "        for idx, c in enumerate(unique):\n",
    "            prior_probs[i] = counts[idx] / total_samples\n",
    "        return prior_probs\n",
    "        \n",
    "        "
   ]
  },
  {
   "cell_type": "code",
   "execution_count": 1,
   "id": "2501cb30-9f56-49c5-98f4-41bb37a43cfd",
   "metadata": {},
   "outputs": [
    {
     "name": "stdout",
     "output_type": "stream",
     "text": [
      "Vocabulary: {'this': 1, 'movie': 2, 'is': 3, 'great': 4, 'i': 5, 'love': 6, 'terrible': 7}\n",
      "Matrix shape: (3, 8)\n",
      "Matrix:\n",
      "[[0.   0.25 0.25 0.25 0.25 0.   0.   0.  ]\n",
      " [0.   0.25 0.25 0.   0.   0.25 0.25 0.  ]\n",
      " [0.   0.25 0.25 0.25 0.   0.   0.   0.25]]\n"
     ]
    }
   ],
   "source": [
    "from tensorflow.keras.preprocessing.text import Tokenizer\n",
    "\n",
    "# Sample reviews\n",
    "reviews = [\n",
    "    \"This movie is great\",\n",
    "    \"I love this movie\",\n",
    "    \"This movie is terrible\"\n",
    "]\n",
    "\n",
    "# Create and fit the tokenizer\n",
    "tokenizer = Tokenizer()\n",
    "tokenizer.fit_on_texts(reviews)\n",
    "\n",
    "# Convert to matrix\n",
    "matrix = tokenizer.texts_to_matrix(reviews, mode='freq')\n",
    "\n",
    "print(\"Vocabulary:\", tokenizer.word_index)\n",
    "print(\"Matrix shape:\", matrix.shape)\n",
    "print(\"Matrix:\")\n",
    "print(matrix)\n"
   ]
  },
  {
   "cell_type": "code",
   "execution_count": null,
   "id": "66fad46b-871a-49ee-915e-1a056c153d4d",
   "metadata": {},
   "outputs": [],
   "source": []
  }
 ],
 "metadata": {
  "kernelspec": {
   "display_name": "Python 3 (ipykernel)",
   "language": "python",
   "name": "python3"
  },
  "language_info": {
   "codemirror_mode": {
    "name": "ipython",
    "version": 3
   },
   "file_extension": ".py",
   "mimetype": "text/x-python",
   "name": "python",
   "nbconvert_exporter": "python",
   "pygments_lexer": "ipython3",
   "version": "3.12.1"
  }
 },
 "nbformat": 4,
 "nbformat_minor": 5
}
