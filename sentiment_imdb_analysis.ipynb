{
 "cells": [
  {
   "cell_type": "markdown",
   "id": "6f3ac4d8-40a6-4775-90d9-88571f17afca",
   "metadata": {},
   "source": [
    "# Sentiment Analysis of Movie Reviews"
   ]
  },
  {
   "cell_type": "code",
   "execution_count": 102,
   "id": "ab04ac12-dc0c-4d79-a992-68f03e2117ea",
   "metadata": {},
   "outputs": [],
   "source": [
    "import numpy as np\n",
    "import pandas as pd\n",
    "import matplotlib.pyplot as plt\n",
    "import seaborn as sns\n",
    "import string\n",
    "from collections import Counter\n",
    "\n",
    "import nltk\n",
    "from nltk.corpus import stopwords"
   ]
  },
  {
   "cell_type": "markdown",
   "id": "9ea32828-aeb0-4819-a49b-69bc384eae45",
   "metadata": {},
   "source": [
    "## Data Preprocessing"
   ]
  },
  {
   "cell_type": "code",
   "execution_count": 110,
   "id": "965f02b1-29e4-4269-811f-8970cbb7354b",
   "metadata": {},
   "outputs": [],
   "source": [
    "df = pd.read_csv('data/raw/IMDB Dataset.csv')"
   ]
  },
  {
   "cell_type": "code",
   "execution_count": 111,
   "id": "53c9076c-e158-450e-a7a1-43f1d49f7f20",
   "metadata": {},
   "outputs": [
    {
     "data": {
      "text/html": [
       "<div>\n",
       "<style scoped>\n",
       "    .dataframe tbody tr th:only-of-type {\n",
       "        vertical-align: middle;\n",
       "    }\n",
       "\n",
       "    .dataframe tbody tr th {\n",
       "        vertical-align: top;\n",
       "    }\n",
       "\n",
       "    .dataframe thead th {\n",
       "        text-align: right;\n",
       "    }\n",
       "</style>\n",
       "<table border=\"1\" class=\"dataframe\">\n",
       "  <thead>\n",
       "    <tr style=\"text-align: right;\">\n",
       "      <th></th>\n",
       "      <th>review</th>\n",
       "      <th>sentiment</th>\n",
       "    </tr>\n",
       "  </thead>\n",
       "  <tbody>\n",
       "    <tr>\n",
       "      <th>0</th>\n",
       "      <td>One of the other reviewers has mentioned that ...</td>\n",
       "      <td>positive</td>\n",
       "    </tr>\n",
       "    <tr>\n",
       "      <th>1</th>\n",
       "      <td>A wonderful little production. &lt;br /&gt;&lt;br /&gt;The...</td>\n",
       "      <td>positive</td>\n",
       "    </tr>\n",
       "    <tr>\n",
       "      <th>2</th>\n",
       "      <td>I thought this was a wonderful way to spend ti...</td>\n",
       "      <td>positive</td>\n",
       "    </tr>\n",
       "    <tr>\n",
       "      <th>3</th>\n",
       "      <td>Basically there's a family where a little boy ...</td>\n",
       "      <td>negative</td>\n",
       "    </tr>\n",
       "    <tr>\n",
       "      <th>4</th>\n",
       "      <td>Petter Mattei's \"Love in the Time of Money\" is...</td>\n",
       "      <td>positive</td>\n",
       "    </tr>\n",
       "    <tr>\n",
       "      <th>...</th>\n",
       "      <td>...</td>\n",
       "      <td>...</td>\n",
       "    </tr>\n",
       "    <tr>\n",
       "      <th>4996</th>\n",
       "      <td>i watched this series when it first came out i...</td>\n",
       "      <td>positive</td>\n",
       "    </tr>\n",
       "    <tr>\n",
       "      <th>4997</th>\n",
       "      <td>Once again Jet Li brings his charismatic prese...</td>\n",
       "      <td>positive</td>\n",
       "    </tr>\n",
       "    <tr>\n",
       "      <th>4998</th>\n",
       "      <td>I rented this movie, after hearing Chris Gore ...</td>\n",
       "      <td>negative</td>\n",
       "    </tr>\n",
       "    <tr>\n",
       "      <th>4999</th>\n",
       "      <td>This was a big disappointment for me. I think ...</td>\n",
       "      <td>negative</td>\n",
       "    </tr>\n",
       "    <tr>\n",
       "      <th>5000</th>\n",
       "      <td>Not a movie for everyone, but this movie is in...</td>\n",
       "      <td>positive</td>\n",
       "    </tr>\n",
       "  </tbody>\n",
       "</table>\n",
       "<p>5001 rows × 2 columns</p>\n",
       "</div>"
      ],
      "text/plain": [
       "                                                 review sentiment\n",
       "0     One of the other reviewers has mentioned that ...  positive\n",
       "1     A wonderful little production. <br /><br />The...  positive\n",
       "2     I thought this was a wonderful way to spend ti...  positive\n",
       "3     Basically there's a family where a little boy ...  negative\n",
       "4     Petter Mattei's \"Love in the Time of Money\" is...  positive\n",
       "...                                                 ...       ...\n",
       "4996  i watched this series when it first came out i...  positive\n",
       "4997  Once again Jet Li brings his charismatic prese...  positive\n",
       "4998  I rented this movie, after hearing Chris Gore ...  negative\n",
       "4999  This was a big disappointment for me. I think ...  negative\n",
       "5000  Not a movie for everyone, but this movie is in...  positive\n",
       "\n",
       "[5001 rows x 2 columns]"
      ]
     },
     "execution_count": 111,
     "metadata": {},
     "output_type": "execute_result"
    }
   ],
   "source": [
    "df = df.head(5001)\n",
    "df"
   ]
  },
  {
   "cell_type": "code",
   "execution_count": 112,
   "id": "244b1f6b-2697-463e-8f2f-18dfc71e2996",
   "metadata": {},
   "outputs": [
    {
     "data": {
      "text/plain": [
       "sentiment\n",
       "negative    2532\n",
       "positive    2469\n",
       "Name: count, dtype: int64"
      ]
     },
     "execution_count": 112,
     "metadata": {},
     "output_type": "execute_result"
    }
   ],
   "source": [
    "df['sentiment'].value_counts()"
   ]
  },
  {
   "cell_type": "markdown",
   "id": "1ea02312-dea9-43be-b1ce-810acff197cd",
   "metadata": {},
   "source": [
    "We have 25000 positive review and 25000 negative reviews"
   ]
  },
  {
   "cell_type": "code",
   "execution_count": 113,
   "id": "166101b6-1113-47c9-b195-98510bd229dd",
   "metadata": {},
   "outputs": [
    {
     "name": "stdout",
     "output_type": "stream",
     "text": [
      "One of the other reviewers has mentioned that after watching just 1 Oz episode you'll be hooked. They are right, as this is exactly what happened with me.<br /><br />The first thing that struck me about Oz was its brutality and unflinching scenes of violence, which set in right from the word GO. Trust me, this is not a show for the faint hearted or timid. This show pulls no punches with regards to drugs, sex or violence. Its is hardcore, in the classic use of the word.<br /><br />It is called OZ as that is the nickname given to the Oswald Maximum Security State Penitentary. It focuses mainly on Emerald City, an experimental section of the prison where all the cells have glass fronts and face inwards, so privacy is not high on the agenda. Em City is home to many..Aryans, Muslims, gangstas, Latinos, Christians, Italians, Irish and more....so scuffles, death stares, dodgy dealings and shady agreements are never far away.<br /><br />I would say the main appeal of the show is due to the fact that it goes where other shows wouldn't dare. Forget pretty pictures painted for mainstream audiences, forget charm, forget romance...OZ doesn't mess around. The first episode I ever saw struck me as so nasty it was surreal, I couldn't say I was ready for it, but as I watched more, I developed a taste for Oz, and got accustomed to the high levels of graphic violence. Not just violence, but injustice (crooked guards who'll be sold out for a nickel, inmates who'll kill on order and get away with it, well mannered, middle class inmates being turned into prison bitches due to their lack of street skills or prison experience) Watching Oz, you may become comfortable with what is uncomfortable viewing....thats if you can get in touch with your darker side.\n"
     ]
    }
   ],
   "source": [
    "example = df['review'][0]\n",
    "print(example)"
   ]
  },
  {
   "cell_type": "code",
   "execution_count": 114,
   "id": "9739feba-2cd7-4403-a5ac-b34f60fdc045",
   "metadata": {},
   "outputs": [
    {
     "data": {
      "text/plain": [
       "['one',\n",
       " 'reviewers',\n",
       " 'mentioned',\n",
       " 'watching',\n",
       " 'oz',\n",
       " 'episode',\n",
       " 'youll',\n",
       " 'hooked',\n",
       " 'right',\n",
       " 'exactly']"
      ]
     },
     "execution_count": 114,
     "metadata": {},
     "output_type": "execute_result"
    }
   ],
   "source": [
    "# Splits up the review and provides a list of those words\n",
    "# NLTK approach\n",
    "# tokens = nltk.word_tokenize(example)\n",
    "# tokens[:10]\n",
    "\n",
    "def tokenize_and_clean_review(review):\n",
    "    stop_words = set(stopwords.words('english'))\n",
    "    tokens = review.split()\n",
    "    table = str.maketrans('', '', string.punctuation)\n",
    "    tokens = [word.translate(table) for word in tokens]\n",
    "    tokens = [word for word in tokens if word.isalpha()]\n",
    "    tokens = [word for word in tokens if not word.lower() in stop_words]\n",
    "    tokens = [word.lower() for word in tokens if len(word) > 1]\n",
    "    return tokens\n",
    "\n",
    "tokens = tokenize_and_clean_review(example)\n",
    "tokens[:10]"
   ]
  },
  {
   "cell_type": "markdown",
   "id": "ab7937ff-5a0e-436b-a566-0999309fbe6f",
   "metadata": {},
   "source": [
    "## Bag of words approach for sentiment scoring"
   ]
  },
  {
   "cell_type": "code",
   "execution_count": 120,
   "id": "828b3f94-572a-462d-a466-c09c820da7d2",
   "metadata": {},
   "outputs": [
    {
     "name": "stdout",
     "output_type": "stream",
     "text": [
      "[('br', 11593), ('movie', 8467), ('film', 7383), ('one', 5039), ('like', 3880), ('good', 2896), ('even', 2468), ('would', 2462), ('see', 2286), ('time', 2261), ('story', 2258), ('really', 2247), ('well', 1949), ('much', 1947), ('get', 1889), ('bad', 1826), ('first', 1752), ('also', 1743), ('people', 1716), ('great', 1715), ('dont', 1663), ('movies', 1568), ('make', 1567), ('way', 1561), ('made', 1556), ('films', 1479), ('could', 1455), ('characters', 1431), ('watch', 1376), ('think', 1375), ('never', 1340), ('little', 1314), ('many', 1291), ('character', 1289), ('seen', 1277), ('plot', 1267), ('two', 1248), ('know', 1225), ('acting', 1224), ('best', 1222), ('love', 1182), ('ever', 1162), ('show', 1155), ('life', 1145), ('scene', 1086), ('better', 1082), ('still', 1061), ('say', 1059), ('something', 1016), ('go', 1003)]\n"
     ]
    }
   ],
   "source": [
    "# Building bag of words for all reviews\n",
    "full_bow = Counter()\n",
    "for review in df['review']:\n",
    "    tokens = tokenize_and_clean_review(review)\n",
    "    bow = Counter(tokens)\n",
    "    full_bow.update(bow)\n",
    "\n",
    "print(full_bow.most_common(50))"
   ]
  },
  {
   "cell_type": "code",
   "execution_count": 87,
   "id": "7ece67ef-fa4a-483e-b0d1-e46bad9e6f1d",
   "metadata": {},
   "outputs": [
    {
     "data": {
      "text/plain": [
       "[('MYSTERY', 'NNP'),\n",
       " ('MEN', 'NNP'),\n",
       " ('got', 'VBD'),\n",
       " ('stupidest', 'JJS'),\n",
       " ('film', 'NN'),\n",
       " ('Ive', 'NNP'),\n",
       " ('ever', 'RB'),\n",
       " ('seen', 'VBN'),\n",
       " ('film', 'NN'),\n",
       " ('thought', 'VBD')]"
      ]
     },
     "execution_count": 87,
     "metadata": {},
     "output_type": "execute_result"
    }
   ],
   "source": [
    "# Finding part of speech for each token\n",
    "# NLTK approach\n",
    "tagged_tokens = nltk.pos_tag(tokens)\n",
    "tagged_tokens[:10]\n"
   ]
  },
  {
   "cell_type": "code",
   "execution_count": 9,
   "id": "88b285c2-a831-4173-a667-b144c3d67b47",
   "metadata": {},
   "outputs": [],
   "source": [
    "from nltk.sentiment import SentimentIntensityAnalyzer\n",
    "from tqdm.notebook import tqdm\n",
    "\n",
    "sia = SentimentIntensityAnalyzer()"
   ]
  },
  {
   "cell_type": "code",
   "execution_count": 10,
   "id": "4b2e01f2-9a5b-4580-9e01-a66c6e094cd3",
   "metadata": {},
   "outputs": [
    {
     "data": {
      "text/plain": [
       "{'neg': 0.203, 'neu': 0.748, 'pos': 0.048, 'compound': -0.9951}"
      ]
     },
     "execution_count": 10,
     "metadata": {},
     "output_type": "execute_result"
    }
   ],
   "source": [
    "sia.polarity_scores(example)"
   ]
  },
  {
   "cell_type": "code",
   "execution_count": 11,
   "id": "dd08082f-9738-4345-910d-9062bd9cbb92",
   "metadata": {},
   "outputs": [],
   "source": [
    "sentiment_scores = [sia.polarity_scores(review) for review in df['review']]\n",
    "sentiment_scores = pd.DataFrame(sentiment_scores)\n",
    "vaders = df.join(sentiment_scores)"
   ]
  },
  {
   "cell_type": "code",
   "execution_count": 18,
   "id": "f78e775e-b382-441a-8d1d-77ddad950ff7",
   "metadata": {},
   "outputs": [
    {
     "data": {
      "image/png": "[encoded data removed]",
      "text/plain": [
       "<Figure size 640x480 with 1 Axes>"
      ]
     },
     "metadata": {},
     "output_type": "display_data"
    }
   ],
   "source": [
    "ax = sns.barplot(data=vaders, x='sentiment', y = 'compound')\n",
    "ax.set_title('Compound Score by Sentiment')\n",
    "plt.show()"
   ]
  },
  {
   "cell_type": "code",
   "execution_count": null,
   "id": "e01e81ae-9ef7-435f-a44f-04172341f71a",
   "metadata": {},
   "outputs": [],
   "source": []
  }
 ],
 "metadata": {
  "kernelspec": {
   "display_name": "Python 3 (ipykernel)",
   "language": "python",
   "name": "python3"
  },
  "language_info": {
   "codemirror_mode": {
    "name": "ipython",
    "version": 3
   },
   "file_extension": ".py",
   "mimetype": "text/x-python",
   "name": "python",
   "nbconvert_exporter": "python",
   "pygments_lexer": "ipython3",
   "version": "3.12.1"
  }
 },
 "nbformat": 4,
 "nbformat_minor": 5
}
