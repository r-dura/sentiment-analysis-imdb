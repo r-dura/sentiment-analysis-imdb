{
 "cells": [
  {
   "cell_type": "markdown",
   "id": "6f3ac4d8-40a6-4775-90d9-88571f17afca",
   "metadata": {},
   "source": [
    "# Sentiment Analysis of Movie Reviews"
   ]
  },
  {
   "cell_type": "code",
   "execution_count": 2,
   "id": "ab04ac12-dc0c-4d79-a992-68f03e2117ea",
   "metadata": {},
   "outputs": [],
   "source": [
    "import pandas as pd\n",
    "from src.data_preprocessing import tokenize_and_clean, build_bow, preprocess_reviews, prepare_data"
   ]
  },
  {
   "cell_type": "markdown",
   "id": "9ea32828-aeb0-4819-a49b-69bc384eae45",
   "metadata": {},
   "source": [
    "## Data Preprocessing"
   ]
  },
  {
   "cell_type": "code",
   "execution_count": 7,
   "id": "6d141688-2924-456c-958a-5727019f9756",
   "metadata": {},
   "outputs": [
    {
     "name": "stdout",
     "output_type": "stream",
     "text": [
      "[2.41970725 2.19695645 3.25735008 3.52065327 2.4000779 ]\n"
     ]
    }
   ],
   "source": [
    "import numpy as np\n",
    "x = np.array([0.2, 0.2, 0.2, 0.2, 0.2])\n",
    "mean = np.array([0.1, 0.3, 0.2, 0.15, 0.25])\n",
    "var = np.array([0.01, 0.02, 0.015, 0.01, 0.025])\n",
    "exponential = np.exp(-(1/2) * (x-mean) ** 2 / var)\n",
    "coeff = 1 / ((var * 2 * np.pi) ** (1/2))\n",
    "print(coeff * exponential)"
   ]
  },
  {
   "cell_type": "code",
   "execution_count": 2,
   "id": "965f02b1-29e4-4269-811f-8970cbb7354b",
   "metadata": {},
   "outputs": [],
   "source": [
    "df = pd.read_csv('data/raw/IMDB Dataset.csv')"
   ]
  },
  {
   "cell_type": "code",
   "execution_count": 3,
   "id": "53c9076c-e158-450e-a7a1-43f1d49f7f20",
   "metadata": {},
   "outputs": [
    {
     "data": {
      "text/html": [
       "<div>\n",
       "<style scoped>\n",
       "    .dataframe tbody tr th:only-of-type {\n",
       "        vertical-align: middle;\n",
       "    }\n",
       "\n",
       "    .dataframe tbody tr th {\n",
       "        vertical-align: top;\n",
       "    }\n",
       "\n",
       "    .dataframe thead th {\n",
       "        text-align: right;\n",
       "    }\n",
       "</style>\n",
       "<table border=\"1\" class=\"dataframe\">\n",
       "  <thead>\n",
       "    <tr style=\"text-align: right;\">\n",
       "      <th></th>\n",
       "      <th>review</th>\n",
       "      <th>sentiment</th>\n",
       "    </tr>\n",
       "  </thead>\n",
       "  <tbody>\n",
       "    <tr>\n",
       "      <th>0</th>\n",
       "      <td>One of the other reviewers has mentioned that ...</td>\n",
       "      <td>positive</td>\n",
       "    </tr>\n",
       "    <tr>\n",
       "      <th>1</th>\n",
       "      <td>A wonderful little production. &lt;br /&gt;&lt;br /&gt;The...</td>\n",
       "      <td>positive</td>\n",
       "    </tr>\n",
       "    <tr>\n",
       "      <th>2</th>\n",
       "      <td>I thought this was a wonderful way to spend ti...</td>\n",
       "      <td>positive</td>\n",
       "    </tr>\n",
       "    <tr>\n",
       "      <th>3</th>\n",
       "      <td>Basically there's a family where a little boy ...</td>\n",
       "      <td>negative</td>\n",
       "    </tr>\n",
       "    <tr>\n",
       "      <th>4</th>\n",
       "      <td>Petter Mattei's \"Love in the Time of Money\" is...</td>\n",
       "      <td>positive</td>\n",
       "    </tr>\n",
       "    <tr>\n",
       "      <th>...</th>\n",
       "      <td>...</td>\n",
       "      <td>...</td>\n",
       "    </tr>\n",
       "    <tr>\n",
       "      <th>4996</th>\n",
       "      <td>i watched this series when it first came out i...</td>\n",
       "      <td>positive</td>\n",
       "    </tr>\n",
       "    <tr>\n",
       "      <th>4997</th>\n",
       "      <td>Once again Jet Li brings his charismatic prese...</td>\n",
       "      <td>positive</td>\n",
       "    </tr>\n",
       "    <tr>\n",
       "      <th>4998</th>\n",
       "      <td>I rented this movie, after hearing Chris Gore ...</td>\n",
       "      <td>negative</td>\n",
       "    </tr>\n",
       "    <tr>\n",
       "      <th>4999</th>\n",
       "      <td>This was a big disappointment for me. I think ...</td>\n",
       "      <td>negative</td>\n",
       "    </tr>\n",
       "    <tr>\n",
       "      <th>5000</th>\n",
       "      <td>Not a movie for everyone, but this movie is in...</td>\n",
       "      <td>positive</td>\n",
       "    </tr>\n",
       "  </tbody>\n",
       "</table>\n",
       "<p>5001 rows × 2 columns</p>\n",
       "</div>"
      ],
      "text/plain": [
       "                                                 review sentiment\n",
       "0     One of the other reviewers has mentioned that ...  positive\n",
       "1     A wonderful little production. <br /><br />The...  positive\n",
       "2     I thought this was a wonderful way to spend ti...  positive\n",
       "3     Basically there's a family where a little boy ...  negative\n",
       "4     Petter Mattei's \"Love in the Time of Money\" is...  positive\n",
       "...                                                 ...       ...\n",
       "4996  i watched this series when it first came out i...  positive\n",
       "4997  Once again Jet Li brings his charismatic prese...  positive\n",
       "4998  I rented this movie, after hearing Chris Gore ...  negative\n",
       "4999  This was a big disappointment for me. I think ...  negative\n",
       "5000  Not a movie for everyone, but this movie is in...  positive\n",
       "\n",
       "[5001 rows x 2 columns]"
      ]
     },
     "execution_count": 3,
     "metadata": {},
     "output_type": "execute_result"
    }
   ],
   "source": [
    "df = df.head(5001)\n",
    "df"
   ]
  },
  {
   "cell_type": "code",
   "execution_count": 4,
   "id": "244b1f6b-2697-463e-8f2f-18dfc71e2996",
   "metadata": {},
   "outputs": [
    {
     "data": {
      "text/plain": [
       "sentiment\n",
       "negative    2532\n",
       "positive    2469\n",
       "Name: count, dtype: int64"
      ]
     },
     "execution_count": 4,
     "metadata": {},
     "output_type": "execute_result"
    }
   ],
   "source": [
    "df['sentiment'].value_counts()"
   ]
  },
  {
   "cell_type": "markdown",
   "id": "1ea02312-dea9-43be-b1ce-810acff197cd",
   "metadata": {},
   "source": [
    "We have 25000 positive review and 25000 negative reviews"
   ]
  },
  {
   "cell_type": "code",
   "execution_count": 5,
   "id": "166101b6-1113-47c9-b195-98510bd229dd",
   "metadata": {},
   "outputs": [
    {
     "name": "stdout",
     "output_type": "stream",
     "text": [
      "One of the other reviewers has mentioned that after watching just 1 Oz episode you'll be hooked. They are right, as this is exactly what happened with me.<br /><br />The first thing that struck me about Oz was its brutality and unflinching scenes of violence, which set in right from the word GO. Trust me, this is not a show for the faint hearted or timid. This show pulls no punches with regards to drugs, sex or violence. Its is hardcore, in the classic use of the word.<br /><br />It is called OZ as that is the nickname given to the Oswald Maximum Security State Penitentary. It focuses mainly on Emerald City, an experimental section of the prison where all the cells have glass fronts and face inwards, so privacy is not high on the agenda. Em City is home to many..Aryans, Muslims, gangstas, Latinos, Christians, Italians, Irish and more....so scuffles, death stares, dodgy dealings and shady agreements are never far away.<br /><br />I would say the main appeal of the show is due to the fact that it goes where other shows wouldn't dare. Forget pretty pictures painted for mainstream audiences, forget charm, forget romance...OZ doesn't mess around. The first episode I ever saw struck me as so nasty it was surreal, I couldn't say I was ready for it, but as I watched more, I developed a taste for Oz, and got accustomed to the high levels of graphic violence. Not just violence, but injustice (crooked guards who'll be sold out for a nickel, inmates who'll kill on order and get away with it, well mannered, middle class inmates being turned into prison bitches due to their lack of street skills or prison experience) Watching Oz, you may become comfortable with what is uncomfortable viewing....thats if you can get in touch with your darker side.\n"
     ]
    }
   ],
   "source": [
    "example = df['review'][0]\n",
    "print(example)"
   ]
  },
  {
   "cell_type": "code",
   "execution_count": 6,
   "id": "9739feba-2cd7-4403-a5ac-b34f60fdc045",
   "metadata": {},
   "outputs": [
    {
     "data": {
      "text/plain": [
       "['one',\n",
       " 'reviewers',\n",
       " 'mentioned',\n",
       " 'watching',\n",
       " 'oz',\n",
       " 'episode',\n",
       " 'youll',\n",
       " 'hooked',\n",
       " 'right',\n",
       " 'exactly']"
      ]
     },
     "execution_count": 6,
     "metadata": {},
     "output_type": "execute_result"
    }
   ],
   "source": [
    "tokens = tokenize_and_clean(example)\n",
    "tokens[:10]"
   ]
  },
  {
   "cell_type": "markdown",
   "id": "ab7937ff-5a0e-436b-a566-0999309fbe6f",
   "metadata": {},
   "source": [
    "## Bag of words approach for sentiment scoring"
   ]
  },
  {
   "cell_type": "code",
   "execution_count": 7,
   "id": "828b3f94-572a-462d-a466-c09c820da7d2",
   "metadata": {},
   "outputs": [
    {
     "name": "stdout",
     "output_type": "stream",
     "text": [
      "[('movie', 8647), ('film', 7560), ('one', 5089), ('like', 3891), ('good', 2927), ('even', 2468), ('would', 2463), ('time', 2349), ('see', 2293), ('story', 2292), ('really', 2253), ('well', 1995), ('much', 1962), ('get', 1890), ('bad', 1850), ('first', 1760), ('also', 1751), ('people', 1738), ('great', 1726), ('dont', 1666), ('way', 1601), ('movies', 1595), ('made', 1572), ('make', 1569), ('films', 1503), ('could', 1458), ('characters', 1452), ('watch', 1402), ('think', 1379), ('never', 1342), ('little', 1317), ('character', 1306), ('seen', 1302), ('many', 1291), ('plot', 1279), ('two', 1257), ('know', 1239), ('acting', 1238), ('best', 1237), ('love', 1199), ('show', 1182), ('ever', 1178), ('life', 1176), ('scene', 1105), ('better', 1104), ('still', 1065), ('say', 1064), ('something', 1029), ('end', 1020), ('scenes', 1014)]\n",
      "47026\n"
     ]
    }
   ],
   "source": [
    "full_bow = build_full_bow(df['review'])\n",
    "print(full_bow.most_common(50))\n",
    "print(len(full_bow))"
   ]
  },
  {
   "cell_type": "code",
   "execution_count": 8,
   "id": "f5e0e621-7684-48f1-9f7e-ae8d9526e2d9",
   "metadata": {},
   "outputs": [
    {
     "name": "stdout",
     "output_type": "stream",
     "text": [
      "17738\n"
     ]
    }
   ],
   "source": [
    "# Keep tokens with a min occurence greater than 2\n",
    "filtered_bow = {token: full_bow[token] for token in full_bow if full_bow[token] > 2}\n",
    "print(len(filtered_bow))"
   ]
  },
  {
   "cell_type": "code",
   "execution_count": 9,
   "id": "1221224e-71a1-4269-ae51-a7220efac8f1",
   "metadata": {},
   "outputs": [],
   "source": [
    "processed_reviews = preprocess_reviews(df['review'], filtered_bow)\n",
    "df['processed_review'] = pd.DataFrame(processed_reviews)"
   ]
  },
  {
   "cell_type": "code",
   "execution_count": 10,
   "id": "b6fae682-480f-4d3f-86e3-66b78ee26ed6",
   "metadata": {},
   "outputs": [
    {
     "name": "stdout",
     "output_type": "stream",
     "text": [
      "Training set shape: (4000, 17739), (4000,)\n",
      "Test set shape: (1001, 17739), (1001,)\n"
     ]
    }
   ],
   "source": [
    "X_train, X_test, y_train, y_test = prepare_data(df)\n",
    "\n",
    "print(f\"Training set shape: {X_train.shape}, {y_train.shape}\")\n",
    "print(f\"Test set shape: {X_test.shape}, {y_test.shape}\")"
   ]
  },
  {
   "cell_type": "code",
   "execution_count": 11,
   "id": "5ec2a519-5492-4152-8f11-10434e208b02",
   "metadata": {},
   "outputs": [
    {
     "name": "stdout",
     "output_type": "stream",
     "text": [
      "Test set shape: 2\n",
      "[0.         0.01470588 0.05882353 ... 0.         0.         0.        ]\n",
      "Test set shape: [507 494]\n"
     ]
    }
   ],
   "source": [
    "import numpy as np\n",
    "classes = np.unique(y_test)\n",
    "unique, counts = np.unique(y_test, return_counts=True)\n",
    "print(f\"Test set shape: {len(classes)}\")\n",
    "print(X_test[2])\n",
    "print(f\"Test set shape: {counts}\")"
   ]
  },
  {
   "cell_type": "code",
   "execution_count": 14,
   "id": "ba03c8af-fef3-4ecb-aeac-c8ad09afd962",
   "metadata": {},
   "outputs": [
    {
     "name": "stdout",
     "output_type": "stream",
     "text": [
      "number of words in training dataset: 17739\n",
      "number of words in testing dataset: 17739\n"
     ]
    }
   ],
   "source": [
    "print(f'number of words in training dataset: {X_train.shape[1]}')\n",
    "print(f'number of words in testing dataset: {X_test.shape[1]}')"
   ]
  },
  {
   "cell_type": "code",
   "execution_count": null,
   "id": "17f80d8a-77f3-43d1-84b5-48b4083b4342",
   "metadata": {},
   "outputs": [],
   "source": []
  }
 ],
 "metadata": {
  "kernelspec": {
   "display_name": "Python 3 (ipykernel)",
   "language": "python",
   "name": "python3"
  },
  "language_info": {
   "codemirror_mode": {
    "name": "ipython",
    "version": 3
   },
   "file_extension": ".py",
   "mimetype": "text/x-python",
   "name": "python",
   "nbconvert_exporter": "python",
   "pygments_lexer": "ipython3",
   "version": "3.12.1"
  }
 },
 "nbformat": 4,
 "nbformat_minor": 5
}
